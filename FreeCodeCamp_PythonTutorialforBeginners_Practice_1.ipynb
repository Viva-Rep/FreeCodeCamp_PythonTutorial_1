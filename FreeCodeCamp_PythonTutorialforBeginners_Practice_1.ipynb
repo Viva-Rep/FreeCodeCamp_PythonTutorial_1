{
 "cells": [
  {
   "cell_type": "markdown",
   "id": "27b5cbc9-69f7-48bc-a4ab-3679b80c9688",
   "metadata": {},
   "source": [
    "# Chapter 2: Python Basics\n",
    "### Exercise # 1 - Types of variable names\n",
    "##### __*__ Alphabets, numericals, and '_' are allowed. No other special characters are allowed.\n",
    "##### __*__ However, numericals are not allowed at the beginning.\n",
    "##### __*__ '_' can be at the beginning\n",
    "##### __*__ No key words are allowed like and, if etc"
   ]
  },
  {
   "cell_type": "code",
   "execution_count": 5,
   "id": "1e089cb8-bad9-4af1-9b90-e15f49143583",
   "metadata": {},
   "outputs": [],
   "source": [
    "name = 'Viva'"
   ]
  },
  {
   "cell_type": "code",
   "execution_count": 6,
   "id": "78b5d17f-8e3a-4e73-8f83-8783a1fa661d",
   "metadata": {},
   "outputs": [
    {
     "ename": "SyntaxError",
     "evalue": "invalid decimal literal (3250318496.py, line 1)",
     "output_type": "error",
     "traceback": [
      "\u001b[1;36m  Cell \u001b[1;32mIn[6], line 1\u001b[1;36m\u001b[0m\n\u001b[1;33m    000name = 'Viva'\u001b[0m\n\u001b[1;37m      ^\u001b[0m\n\u001b[1;31mSyntaxError\u001b[0m\u001b[1;31m:\u001b[0m invalid decimal literal\n"
     ]
    }
   ],
   "source": [
    "000name = 'Viva'"
   ]
  },
  {
   "cell_type": "code",
   "execution_count": 83,
   "id": "b7369892-1c78-4880-b8a5-60fec7037700",
   "metadata": {},
   "outputs": [
    {
     "ename": "SyntaxError",
     "evalue": "cannot assign to expression here. Maybe you meant '==' instead of '='? (3538961467.py, line 1)",
     "output_type": "error",
     "traceback": [
      "\u001b[1;36m  Cell \u001b[1;32mIn[83], line 1\u001b[1;36m\u001b[0m\n\u001b[1;33m    name-new ='Viva'\u001b[0m\n\u001b[1;37m    ^\u001b[0m\n\u001b[1;31mSyntaxError\u001b[0m\u001b[1;31m:\u001b[0m cannot assign to expression here. Maybe you meant '==' instead of '='?\n"
     ]
    }
   ],
   "source": [
    "name-new ='Viva'"
   ]
  },
  {
   "cell_type": "code",
   "execution_count": 85,
   "id": "6ece403a-fc0e-4841-a5aa-09bbdb0b4538",
   "metadata": {},
   "outputs": [],
   "source": [
    "_name = 'Viva'"
   ]
  },
  {
   "cell_type": "code",
   "execution_count": 87,
   "id": "4ea89965-c71d-4006-8ab5-defc2f1a57de",
   "metadata": {},
   "outputs": [],
   "source": [
    "name00 = 'Viva'"
   ]
  },
  {
   "cell_type": "code",
   "execution_count": 89,
   "id": "7baaaece-2a2c-40e2-9821-f53fe5369603",
   "metadata": {},
   "outputs": [
    {
     "ename": "SyntaxError",
     "evalue": "invalid syntax (3516784055.py, line 1)",
     "output_type": "error",
     "traceback": [
      "\u001b[1;36m  Cell \u001b[1;32mIn[89], line 1\u001b[1;36m\u001b[0m\n\u001b[1;33m    for = 'Viva'\u001b[0m\n\u001b[1;37m        ^\u001b[0m\n\u001b[1;31mSyntaxError\u001b[0m\u001b[1;31m:\u001b[0m invalid syntax\n"
     ]
    }
   ],
   "source": [
    "for = 'Viva'"
   ]
  },
  {
   "cell_type": "code",
   "execution_count": 91,
   "id": "9b43560b-9f33-44ca-971f-e227f1326ffc",
   "metadata": {},
   "outputs": [
    {
     "ename": "SyntaxError",
     "evalue": "invalid syntax (3731133017.py, line 1)",
     "output_type": "error",
     "traceback": [
      "\u001b[1;36m  Cell \u001b[1;32mIn[91], line 1\u001b[1;36m\u001b[0m\n\u001b[1;33m    and = 'Viva'\u001b[0m\n\u001b[1;37m    ^\u001b[0m\n\u001b[1;31mSyntaxError\u001b[0m\u001b[1;31m:\u001b[0m invalid syntax\n"
     ]
    }
   ],
   "source": [
    "and = 'Viva'"
   ]
  },
  {
   "cell_type": "code",
   "execution_count": 93,
   "id": "a85e3c3f-60fe-43c6-98de-48130f9c655d",
   "metadata": {},
   "outputs": [],
   "source": [
    "name_ = 'Viva'"
   ]
  },
  {
   "cell_type": "code",
   "execution_count": 95,
   "id": "d440abd6-6f16-4626-8c68-99f75b0fd76b",
   "metadata": {},
   "outputs": [],
   "source": [
    "name_oo = 'Viva'"
   ]
  },
  {
   "cell_type": "markdown",
   "id": "dcbdb331-c2c2-4622-a017-4c24c6b4c286",
   "metadata": {},
   "source": [
    "### Exercise2: Expressions Vs. Statement\n",
    "##### __*__ Expressions are entered and statements are defined"
   ]
  },
  {
   "cell_type": "code",
   "execution_count": 98,
   "id": "28d0f7b4-3384-47e2-8e3a-d35316489de0",
   "metadata": {},
   "outputs": [
    {
     "data": {
      "text/plain": [
       "4"
      ]
     },
     "execution_count": 98,
     "metadata": {},
     "output_type": "execute_result"
    }
   ],
   "source": [
    "# Expression\n",
    "2 + 2"
   ]
  },
  {
   "cell_type": "code",
   "execution_count": 100,
   "id": "5eaec2b1-8bb5-40e0-9b56-bba6917b0f47",
   "metadata": {},
   "outputs": [
    {
     "data": {
      "text/plain": [
       "'Viva'"
      ]
     },
     "execution_count": 100,
     "metadata": {},
     "output_type": "execute_result"
    }
   ],
   "source": [
    "#Expression\n",
    "'Viva'"
   ]
  },
  {
   "cell_type": "code",
   "execution_count": 102,
   "id": "c4603d9c-b1da-4689-ba06-0c947f9629d5",
   "metadata": {},
   "outputs": [
    {
     "data": {
      "text/plain": [
       "'Viva'"
      ]
     },
     "execution_count": 102,
     "metadata": {},
     "output_type": "execute_result"
    }
   ],
   "source": [
    "# Statement\n",
    "Coder = 'Viva'\n",
    "Coder"
   ]
  },
  {
   "cell_type": "code",
   "execution_count": 104,
   "id": "93ccdb39-8e4e-40a5-8be3-9cfcdf078f35",
   "metadata": {},
   "outputs": [
    {
     "data": {
      "text/plain": [
       "4"
      ]
     },
     "execution_count": 104,
     "metadata": {},
     "output_type": "execute_result"
    }
   ],
   "source": [
    "# Statement\n",
    "x = 2 + 2\n",
    "x"
   ]
  },
  {
   "cell_type": "markdown",
   "id": "675d33f1-e74c-459b-a422-b2b7b5a0e2b6",
   "metadata": {},
   "source": [
    "### Exercise3: Welcome to the Python Programming using statements\n",
    "##### __*__ Include comments syntax\n",
    "##### __*__ Understand indentation"
   ]
  },
  {
   "cell_type": "code",
   "execution_count": 107,
   "id": "06c6f09c-0420-42be-a1a4-d587343248b5",
   "metadata": {},
   "outputs": [
    {
     "ename": "IndentationError",
     "evalue": "unexpected indent (57655874.py, line 3)",
     "output_type": "error",
     "traceback": [
      "\u001b[1;36m  Cell \u001b[1;32mIn[107], line 3\u001b[1;36m\u001b[0m\n\u001b[1;33m    line03 = \"*     Welcome!     *\" # Indentation error occurs here due to white spaces\u001b[0m\n\u001b[1;37m    ^\u001b[0m\n\u001b[1;31mIndentationError\u001b[0m\u001b[1;31m:\u001b[0m unexpected indent\n"
     ]
    }
   ],
   "source": [
    "line01 = \"********************\" # header/footer\n",
    "line02 = \"*                  *\" # re-use\n",
    "    line03 = \"*     Welcome!     *\" # Indentation error occurs here due to white spaces\n",
    "\n",
    "#Starts with a blank line\n",
    "print('')\n",
    "print(line01)\n",
    "print(line02)\n",
    "print(line03)\n",
    "print(line02)\n",
    "print(line01)"
   ]
  },
  {
   "cell_type": "code",
   "execution_count": 109,
   "id": "0b6085e2-5dcd-4675-b983-7045f6dccb9f",
   "metadata": {},
   "outputs": [
    {
     "name": "stdout",
     "output_type": "stream",
     "text": [
      "\n",
      "********************\n",
      "*                  *\n",
      "*     Welcome!     *\n",
      "*                  *\n",
      "********************\n"
     ]
    }
   ],
   "source": [
    "line01 = \"********************\" # header/footer\n",
    "line02 = \"*                  *\" # re-use\n",
    "line03 = \"*     Welcome!     *\" # Np indentation error\n",
    "\n",
    "#Starts with a blank line\n",
    "print('')\n",
    "print(line01)\n",
    "print(line02)\n",
    "print(line03)\n",
    "print(line02)\n",
    "print(line01)"
   ]
  },
  {
   "cell_type": "markdown",
   "id": "c0f01b5f-fd56-46cc-83a8-706e9423ba2a",
   "metadata": {},
   "source": [
    "# Chapter 3: Operators\n",
    "### Exercise 1: Assignment Operator\n",
    "##### __*__ '=' sign is the assignment operator. This can be used for numericals and strings as well."
   ]
  },
  {
   "cell_type": "code",
   "execution_count": 112,
   "id": "1421e4fc-a3d5-4349-bde6-3234ab046efe",
   "metadata": {},
   "outputs": [
    {
     "data": {
      "text/plain": [
       "34.5"
      ]
     },
     "execution_count": 112,
     "metadata": {},
     "output_type": "execute_result"
    }
   ],
   "source": [
    "temprature = 34.5\n",
    "temprature"
   ]
  },
  {
   "cell_type": "code",
   "execution_count": 114,
   "id": "ba17b557-6e87-430f-a2bf-fa32d5f0db52",
   "metadata": {},
   "outputs": [
    {
     "data": {
      "text/plain": [
       "'Viva'"
      ]
     },
     "execution_count": 114,
     "metadata": {},
     "output_type": "execute_result"
    }
   ],
   "source": [
    "my_name = 'Viva'\n",
    "my_name"
   ]
  },
  {
   "cell_type": "markdown",
   "id": "38b6bc99-2e3e-4b12-a23e-6b9e17bc9a00",
   "metadata": {},
   "source": [
    "### Exercise 2: Arithmetic Operator\n",
    "##### __*__ Includes standard addition, subtraction, multiplication etc\n",
    "##### __*__ Standard arithematic symbols are used"
   ]
  },
  {
   "cell_type": "code",
   "execution_count": 117,
   "id": "a50c0757-3709-4312-9721-1b64481eaeb2",
   "metadata": {},
   "outputs": [
    {
     "data": {
      "text/plain": [
       "4"
      ]
     },
     "execution_count": 117,
     "metadata": {},
     "output_type": "execute_result"
    }
   ],
   "source": [
    "2 + 2 # addition"
   ]
  },
  {
   "cell_type": "code",
   "execution_count": 119,
   "id": "0bf0e9dd-679c-4151-a66a-f98bab8ec045",
   "metadata": {},
   "outputs": [
    {
     "data": {
      "text/plain": [
       "0"
      ]
     },
     "execution_count": 119,
     "metadata": {},
     "output_type": "execute_result"
    }
   ],
   "source": [
    "2 - 2 # subtraction"
   ]
  },
  {
   "cell_type": "code",
   "execution_count": 121,
   "id": "105eb5c7-bc09-48c1-a6e2-e9473acc9fd0",
   "metadata": {},
   "outputs": [
    {
     "data": {
      "text/plain": [
       "12"
      ]
     },
     "execution_count": 121,
     "metadata": {},
     "output_type": "execute_result"
    }
   ],
   "source": [
    "3 * 4 # multiplication"
   ]
  },
  {
   "cell_type": "code",
   "execution_count": 123,
   "id": "fe57868f-29cc-479c-8307-7d95b8ab1671",
   "metadata": {},
   "outputs": [
    {
     "data": {
      "text/plain": [
       "4.8"
      ]
     },
     "execution_count": 123,
     "metadata": {},
     "output_type": "execute_result"
    }
   ],
   "source": [
    "24 / 5 # division"
   ]
  },
  {
   "cell_type": "code",
   "execution_count": 125,
   "id": "8e26312a-2ca6-4d50-9a10-0ecd28d420fa",
   "metadata": {},
   "outputs": [
    {
     "data": {
      "text/plain": [
       "5"
      ]
     },
     "execution_count": 125,
     "metadata": {},
     "output_type": "execute_result"
    }
   ],
   "source": [
    "round(24 / 5) # rounds up or down based no decimal point value"
   ]
  },
  {
   "cell_type": "code",
   "execution_count": 127,
   "id": "da3055ae-bf88-4416-9014-bbc089a10dfd",
   "metadata": {},
   "outputs": [
    {
     "data": {
      "text/plain": [
       "4"
      ]
     },
     "execution_count": 127,
     "metadata": {},
     "output_type": "execute_result"
    }
   ],
   "source": [
    "24 % 5 # to display remainder"
   ]
  },
  {
   "cell_type": "code",
   "execution_count": 129,
   "id": "c88df4c2-2baf-4b79-a144-ba97cae051f3",
   "metadata": {},
   "outputs": [
    {
     "data": {
      "text/plain": [
       "32"
      ]
     },
     "execution_count": 129,
     "metadata": {},
     "output_type": "execute_result"
    }
   ],
   "source": [
    "2 ** 5 # here ** is used as raise to the power"
   ]
  },
  {
   "cell_type": "code",
   "execution_count": 131,
   "id": "03a857cd-cd08-4f60-943b-bed5912b2df0",
   "metadata": {},
   "outputs": [
    {
     "data": {
      "text/plain": [
       "46"
      ]
     },
     "execution_count": 131,
     "metadata": {},
     "output_type": "execute_result"
    }
   ],
   "source": [
    "temp = 45\n",
    "temp  += 1 # operations using the variable name\n",
    "temp"
   ]
  },
  {
   "cell_type": "code",
   "execution_count": 133,
   "id": "b5f7008a-bf69-4f8f-bc6a-9f0d19501c34",
   "metadata": {},
   "outputs": [
    {
     "data": {
      "text/plain": [
       "45"
      ]
     },
     "execution_count": 133,
     "metadata": {},
     "output_type": "execute_result"
    }
   ],
   "source": [
    "temp -= 1\n",
    "temp"
   ]
  },
  {
   "cell_type": "code",
   "execution_count": 135,
   "id": "66f69ebd-0877-422a-b48c-865413072e0c",
   "metadata": {},
   "outputs": [
    {
     "data": {
      "text/plain": [
       "450"
      ]
     },
     "execution_count": 135,
     "metadata": {},
     "output_type": "execute_result"
    }
   ],
   "source": [
    "temp *= 10\n",
    "temp"
   ]
  },
  {
   "cell_type": "code",
   "execution_count": 137,
   "id": "4af490a7-572c-43af-9ae4-800dac4c67d6",
   "metadata": {},
   "outputs": [
    {
     "data": {
      "text/plain": [
       "45.0"
      ]
     },
     "execution_count": 137,
     "metadata": {},
     "output_type": "execute_result"
    }
   ],
   "source": [
    "temp /= 10 # this returns a decimal point value\n",
    "temp"
   ]
  },
  {
   "cell_type": "code",
   "execution_count": 139,
   "id": "93b839ae-71a9-494c-9747-f0313a7a07d9",
   "metadata": {},
   "outputs": [
    {
     "data": {
      "text/plain": [
       "45"
      ]
     },
     "execution_count": 139,
     "metadata": {},
     "output_type": "execute_result"
    }
   ],
   "source": [
    "temp = round(temp)\n",
    "temp"
   ]
  },
  {
   "cell_type": "code",
   "execution_count": 141,
   "id": "1265e79a-ee7f-4d7e-8efd-8711bd557a9e",
   "metadata": {},
   "outputs": [
    {
     "data": {
      "text/plain": [
       "'VivaCoder'"
      ]
     },
     "execution_count": 141,
     "metadata": {},
     "output_type": "execute_result"
    }
   ],
   "source": [
    "'Viva' + 'Coder' # Concatination of strings using + symbol"
   ]
  },
  {
   "cell_type": "code",
   "execution_count": 143,
   "id": "baae2cbc-8fe2-4f43-98db-f26ad8fb460f",
   "metadata": {},
   "outputs": [
    {
     "data": {
      "text/plain": [
       "False"
      ]
     },
     "execution_count": 143,
     "metadata": {},
     "output_type": "execute_result"
    }
   ],
   "source": [
    "42 == 41 # here == is not the assignment operator, instead it checks if both the values are same or not and returns a true or false"
   ]
  },
  {
   "cell_type": "code",
   "execution_count": 145,
   "id": "a0bebcfe-34ac-42de-878e-6bca0c5cdfa5",
   "metadata": {},
   "outputs": [
    {
     "data": {
      "text/plain": [
       "True"
      ]
     },
     "execution_count": 145,
     "metadata": {},
     "output_type": "execute_result"
    }
   ],
   "source": [
    "42 == 42"
   ]
  },
  {
   "cell_type": "code",
   "execution_count": 147,
   "id": "5df03cbf-8bab-4f6e-8f83-86b512df1c73",
   "metadata": {},
   "outputs": [
    {
     "data": {
      "text/plain": [
       "True"
      ]
     },
     "execution_count": 147,
     "metadata": {},
     "output_type": "execute_result"
    }
   ],
   "source": [
    "10 > 5"
   ]
  },
  {
   "cell_type": "code",
   "execution_count": 149,
   "id": "47c599b1-a6ae-4c85-9978-c0b5444b676b",
   "metadata": {},
   "outputs": [
    {
     "data": {
      "text/plain": [
       "False"
      ]
     },
     "execution_count": 149,
     "metadata": {},
     "output_type": "execute_result"
    }
   ],
   "source": [
    "8 <= 4"
   ]
  },
  {
   "cell_type": "code",
   "execution_count": 151,
   "id": "242eb2fc-1a3d-4eaa-bbf2-441a2774c559",
   "metadata": {},
   "outputs": [
    {
     "data": {
      "text/plain": [
       "True"
      ]
     },
     "execution_count": 151,
     "metadata": {},
     "output_type": "execute_result"
    }
   ],
   "source": [
    "10 >= 10"
   ]
  },
  {
   "cell_type": "code",
   "execution_count": 153,
   "id": "ccf327c6-f620-428c-af8d-60577358e2bf",
   "metadata": {},
   "outputs": [
    {
     "data": {
      "text/plain": [
       "False"
      ]
     },
     "execution_count": 153,
     "metadata": {},
     "output_type": "execute_result"
    }
   ],
   "source": [
    "x= True\n",
    "y = False\n",
    "z = True\n",
    "not x # opposite of x"
   ]
  },
  {
   "cell_type": "code",
   "execution_count": 155,
   "id": "bcee5ded-7b59-435d-a74e-b5cfb5141a91",
   "metadata": {},
   "outputs": [
    {
     "data": {
      "text/plain": [
       "True"
      ]
     },
     "execution_count": 155,
     "metadata": {},
     "output_type": "execute_result"
    }
   ],
   "source": [
    "not y # opposite of y"
   ]
  },
  {
   "cell_type": "code",
   "execution_count": 157,
   "id": "47cf6797-e054-448d-83bb-5a860f0e9512",
   "metadata": {},
   "outputs": [
    {
     "data": {
      "text/plain": [
       "False"
      ]
     },
     "execution_count": 157,
     "metadata": {},
     "output_type": "execute_result"
    }
   ],
   "source": [
    "x and y # and needs both the values to be true"
   ]
  },
  {
   "cell_type": "code",
   "execution_count": 159,
   "id": "c97ca805-ff2f-435b-9e4f-6fd5551950c2",
   "metadata": {},
   "outputs": [
    {
     "data": {
      "text/plain": [
       "True"
      ]
     },
     "execution_count": 159,
     "metadata": {},
     "output_type": "execute_result"
    }
   ],
   "source": [
    "x or y # it looks at 2nd variable/argument only if the first is false.\n",
    "# or need at least one of the variables to be true"
   ]
  },
  {
   "cell_type": "code",
   "execution_count": 161,
   "id": "c8192a48-a840-4b04-b690-28aedb17d602",
   "metadata": {},
   "outputs": [
    {
     "data": {
      "text/plain": [
       "True"
      ]
     },
     "execution_count": 161,
     "metadata": {},
     "output_type": "execute_result"
    }
   ],
   "source": [
    "y or x"
   ]
  },
  {
   "cell_type": "code",
   "execution_count": 163,
   "id": "26a25212-75ff-4aef-b423-d16f4e525352",
   "metadata": {},
   "outputs": [
    {
     "data": {
      "text/plain": [
       "True"
      ]
     },
     "execution_count": 163,
     "metadata": {},
     "output_type": "execute_result"
    }
   ],
   "source": [
    "x and z # here both are true"
   ]
  },
  {
   "cell_type": "code",
   "execution_count": 165,
   "id": "ae42179c-aaf8-4045-a7c3-f556bc5090fb",
   "metadata": {},
   "outputs": [
    {
     "name": "stdout",
     "output_type": "stream",
     "text": [
      "\n",
      "Not today\n"
     ]
    }
   ],
   "source": [
    "meaning = 8\n",
    "print('') # to start the printing with an empty line\n",
    "\n",
    "# below code uses comparison operators to check the conditions\n",
    "if meaning > 10:\n",
    "    print('Right on!')\n",
    "else:\n",
    "    print('Not today')"
   ]
  },
  {
   "cell_type": "markdown",
   "id": "e1c05627-e047-4c6a-8230-9af8c2f4630d",
   "metadata": {},
   "source": [
    "### Exercise 3: Ternary Operator\n",
    "##### In future classes, more operators would be introduced such as,\n",
    "##### __*__ Identity Operator\n",
    "##### __*__ Membership Operator\n",
    "##### __*__ Bit-wise Operator"
   ]
  },
  {
   "cell_type": "code",
   "execution_count": 168,
   "id": "56d70b8d-4ed1-48e8-a8cd-6679cfccb93c",
   "metadata": {},
   "outputs": [
    {
     "name": "stdout",
     "output_type": "stream",
     "text": [
      "\n",
      "Right on!\n"
     ]
    }
   ],
   "source": [
    "meaning = 42\n",
    "print('') # to start the printing with an empty line\n",
    "\n",
    "# Use the ternary operator\n",
    "print('Right on!') if meaning > 10 else print('Not today')"
   ]
  },
  {
   "cell_type": "markdown",
   "id": "683244d3-dd30-4a88-b599-88bb86f6cdbe",
   "metadata": {},
   "source": [
    "# Chapter 4: Data Types\n",
    "### Exercise 1: Working with data types\n",
    "##### __*__ Defining and checking string data type\n",
    "##### __*__ Concatenating strings\n",
    "##### __*__ Casting numbers to strings"
   ]
  },
  {
   "cell_type": "code",
   "execution_count": 170,
   "id": "aaccb30f-6415-45d7-a782-a172aaab2a51",
   "metadata": {},
   "outputs": [
    {
     "name": "stdout",
     "output_type": "stream",
     "text": [
      "<class 'str'>\n",
      "True\n",
      "True\n"
     ]
    }
   ],
   "source": [
    "# String data type. Literal assignment of the value\n",
    "\n",
    "first = 'Viva'\n",
    "last = 'Coder'\n",
    "\n",
    "print(type(first)) # 'str'in the output stands for String\n",
    "print(type(first) == str)\n",
    "print(isinstance (first, str)) # isinstance is checking the given variable is the instance of what"
   ]
  },
  {
   "cell_type": "code",
   "execution_count": 171,
   "id": "58a269d1-bb6e-45a2-8078-d94003c3757f",
   "metadata": {},
   "outputs": [
    {
     "name": "stdout",
     "output_type": "stream",
     "text": [
      "<class 'str'>\n",
      "True\n",
      "True\n"
     ]
    }
   ],
   "source": [
    "# Constructor function\n",
    "pizza = str('Pepperoni') # assigning the string value through constructr function\n",
    "print(type(pizza))\n",
    "print(type(pizza) == str)\n",
    "print(isinstance (pizza, str))"
   ]
  },
  {
   "cell_type": "code",
   "execution_count": 172,
   "id": "067276fa-ea4a-45af-b26d-890298ca999b",
   "metadata": {},
   "outputs": [
    {
     "name": "stdout",
     "output_type": "stream",
     "text": [
      "Viva Coder\n"
     ]
    }
   ],
   "source": [
    "# Concatenation of strings\n",
    "first = 'Viva'\n",
    "last = 'Coder'\n",
    "fullname = first + \" \" + last\n",
    "print(fullname)"
   ]
  },
  {
   "cell_type": "code",
   "execution_count": 173,
   "id": "346c70b7-92cf-417a-bead-7b38b072431b",
   "metadata": {},
   "outputs": [
    {
     "name": "stdout",
     "output_type": "stream",
     "text": [
      "Viva Coder!\n"
     ]
    }
   ],
   "source": [
    "# Add additional info to the string\n",
    "fullname += '!' # this adds value at the end of the string\n",
    "print(fullname)"
   ]
  },
  {
   "cell_type": "code",
   "execution_count": 174,
   "id": "7baa29bf-834f-42ee-98ac-f5aaf640ba6e",
   "metadata": {},
   "outputs": [
    {
     "name": "stdout",
     "output_type": "stream",
     "text": [
      "<class 'str'>\n",
      "1980\n"
     ]
    }
   ],
   "source": [
    "# Casting a number to a string\n",
    "decade = str(1980)\n",
    "print(type(decade))\n",
    "print(decade)"
   ]
  },
  {
   "cell_type": "code",
   "execution_count": 175,
   "id": "15bcbc2e-a812-4f12-b9f2-28ff1ebcc91d",
   "metadata": {},
   "outputs": [
    {
     "name": "stdout",
     "output_type": "stream",
     "text": [
      "I like rock music from the 1980s.\n"
     ]
    }
   ],
   "source": [
    "statement = 'I like rock music from the ' + decade + 's.'\n",
    "print(statement)"
   ]
  },
  {
   "cell_type": "code",
   "execution_count": 176,
   "id": "162ad704-3036-4073-a3eb-4c62a8b89795",
   "metadata": {},
   "outputs": [
    {
     "name": "stdout",
     "output_type": "stream",
     "text": [
      "\n",
      "Hey, how are you?                       \n",
      "\n",
      "I was just checking in.           \n",
      "                            All good?\n",
      "\n",
      "\n"
     ]
    }
   ],
   "source": [
    "# Multiple lines\n",
    "multiline = '''\n",
    "Hey, how are you?                       \n",
    "\n",
    "I was just checking in.           \n",
    "                            All good?\n",
    "\n",
    "'''\n",
    "print(multiline)"
   ]
  },
  {
   "cell_type": "markdown",
   "id": "cbc2582a-b4f8-49cc-83b5-aae8111164ef",
   "metadata": {},
   "source": [
    "### Exercise 2: Using escape characters\n",
    "##### \"\\\\\" escapes the ' and helps in continuing to read the string\n",
    "##### \\t is the for tab\n",
    "##### \\n is the new line character"
   ]
  },
  {
   "cell_type": "code",
   "execution_count": 178,
   "id": "ccdadd68-bc0e-4524-a438-e907d2105cdc",
   "metadata": {},
   "outputs": [
    {
     "name": "stdout",
     "output_type": "stream",
     "text": [
      "I'm back at work!\tHey\n",
      "\n",
      "Where's this at\\located?\n"
     ]
    }
   ],
   "source": [
    "# Escaping special characters\n",
    "sentence = 'I\\'m back at work!\\tHey\\n\\nWhere\\'s this at\\\\located?'\n",
    "print(sentence)"
   ]
  },
  {
   "cell_type": "markdown",
   "id": "168fc350-aeae-40f8-90f9-0277f4046079",
   "metadata": {},
   "source": [
    "### Exercise 3: String Methods\n",
    "##### Methods are the functions that are called on the string class."
   ]
  },
  {
   "cell_type": "code",
   "execution_count": 180,
   "id": "512c894b-553e-4d74-bf9a-bbea33bb0945",
   "metadata": {},
   "outputs": [
    {
     "name": "stdout",
     "output_type": "stream",
     "text": [
      "Viva\n",
      "VIVA\n",
      "viva\n",
      "Viva\n"
     ]
    }
   ],
   "source": [
    "print(first)\n",
    "print(first.upper())\n",
    "print(first.lower())\n",
    "print(first) # Applying methods returns a separate value. It doesn't alter the original value."
   ]
  },
  {
   "cell_type": "code",
   "execution_count": 181,
   "id": "c845a760-1886-4c27-b908-bfdc1cf277ee",
   "metadata": {},
   "outputs": [
    {
     "name": "stdout",
     "output_type": "stream",
     "text": [
      "\n",
      "Hey, How Are You?                       \n",
      "\n",
      "I Was Just Checking In.           \n",
      "                            All Good?\n",
      "\n",
      "\n",
      "\n",
      "Hey, how are you?                       \n",
      "\n",
      "I was just checking in.           \n",
      "                            All ok?\n",
      "\n",
      "\n",
      "\n",
      "Hey, how are you?                       \n",
      "\n",
      "I was just checking in.           \n",
      "                            All good?\n",
      "\n",
      "\n"
     ]
    }
   ],
   "source": [
    "print(multiline.title()) # prints everything as a heading with all the words starting with capitals\n",
    "print(multiline.replace('good', 'ok'))\n",
    "print(multiline) # check if anything changed in the original text. It shouldn't."
   ]
  },
  {
   "cell_type": "code",
   "execution_count": 182,
   "id": "e54e79c2-f108-40b3-b51d-8f9c3ec42cf8",
   "metadata": {},
   "outputs": [
    {
     "name": "stdout",
     "output_type": "stream",
     "text": [
      "117\n",
      "163\n"
     ]
    }
   ],
   "source": [
    "print(len(multiline))\n",
    "multiline += \"                        \"\n",
    "multiline = \"                      \" + multiline\n",
    "print(len(multiline))"
   ]
  },
  {
   "cell_type": "code",
   "execution_count": 183,
   "id": "e02d8fb3-858e-4866-b621-1ed4a091a329",
   "metadata": {},
   "outputs": [
    {
     "name": "stdout",
     "output_type": "stream",
     "text": [
      "114\n",
      "140\n",
      "137\n"
     ]
    }
   ],
   "source": [
    "print(len(multiline.strip())) # removes the white spaces in the string\n",
    "print(len(multiline.lstrip())) # removes only from the left side\n",
    "print(len(multiline.rstrip())) # removes only frmo the right side"
   ]
  },
  {
   "cell_type": "code",
   "execution_count": 184,
   "id": "fecb6d91-b499-4073-9786-5b3060b8c704",
   "metadata": {},
   "outputs": [
    {
     "name": "stdout",
     "output_type": "stream",
     "text": [
      "========MENU========\n"
     ]
    }
   ],
   "source": [
    "# Build a menu\n",
    "\n",
    "title = 'menu'.upper()\n",
    "print(title.center(20, '=')) #centers the title between the '=' symbol. You can find exactly 10 '=' on each side of the title"
   ]
  },
  {
   "cell_type": "code",
   "execution_count": 185,
   "id": "0569711c-d87d-4231-8899-b679c8f49f95",
   "metadata": {},
   "outputs": [
    {
     "name": "stdout",
     "output_type": "stream",
     "text": [
      "========MENU========\n",
      "Coffee..........  $1\n",
      "Muffin..........  $2\n",
      "Cheesecake......  $4\n"
     ]
    }
   ],
   "source": [
    "print(title.center(20, '='))\n",
    "print(\"Coffee\".ljust(16, '.') + '$1'.rjust(4))\n",
    "print(\"Muffin\".ljust(16, '.') + '$2'.rjust(4))\n",
    "print(\"Cheesecake\".ljust(16, '.') + '$4'.rjust(4))"
   ]
  },
  {
   "cell_type": "code",
   "execution_count": 186,
   "id": "a8e51c9a-36bd-4cfc-999a-60c73ec0de44",
   "metadata": {},
   "outputs": [
    {
     "name": "stdout",
     "output_type": "stream",
     "text": [
      "i\n",
      "r\n",
      "ivaCode\n",
      "ivaCoder\n"
     ]
    }
   ],
   "source": [
    "first = 'VivaCoder' # Using index on strings\n",
    "print(first[1]) # index starts at 0. So, if we use 1 in the index, it returns value at 2nd position\n",
    "print(first[-1]) # -1 represents the first value from last.\n",
    "print(first[1:-1]) \n",
    "# index range doesn't include the last value specified in the range.\n",
    "# So, when we specify 1:-1, this returns all the values from the position # 2 till 2nd from last\n",
    "print(first[1:])\n",
    "# not specifying the end of range helps in getting all the values till the end from the specified range.\n",
    "# Similarly, we can leave the beginning of the range empty to get the values from the first value."
   ]
  },
  {
   "cell_type": "code",
   "execution_count": 187,
   "id": "96e5dafa-b710-410c-af3e-04ff31244b67",
   "metadata": {},
   "outputs": [
    {
     "data": {
      "text/plain": [
       "True"
      ]
     },
     "execution_count": 187,
     "metadata": {},
     "output_type": "execute_result"
    }
   ],
   "source": [
    "# Some methods return Boolean data\n",
    "first.startswith(\"V\")"
   ]
  },
  {
   "cell_type": "code",
   "execution_count": 188,
   "id": "387a3250-d627-4164-bfcf-6275c5856a3f",
   "metadata": {},
   "outputs": [
    {
     "data": {
      "text/plain": [
       "False"
      ]
     },
     "execution_count": 188,
     "metadata": {},
     "output_type": "execute_result"
    }
   ],
   "source": [
    "first.endswith(\"Z\")"
   ]
  },
  {
   "cell_type": "code",
   "execution_count": 189,
   "id": "d0f90edd-708c-4d18-8c2e-23dd0e0f1844",
   "metadata": {},
   "outputs": [
    {
     "name": "stdout",
     "output_type": "stream",
     "text": [
      "<class 'bool'>\n",
      "True\n"
     ]
    }
   ],
   "source": [
    "#Boolean data type\n",
    "myvalue = True\n",
    "x = False\n",
    "print(type(x))\n",
    "print(isinstance(myvalue, bool))"
   ]
  },
  {
   "cell_type": "markdown",
   "id": "19425fe3-4822-4fbb-a080-6ae4ba96ae06",
   "metadata": {},
   "source": [
    "### Excercise 4: Numeric Data Types"
   ]
  },
  {
   "cell_type": "code",
   "execution_count": 191,
   "id": "639abb42-30c4-400b-ac9d-86411db2b0ea",
   "metadata": {},
   "outputs": [
    {
     "name": "stdout",
     "output_type": "stream",
     "text": [
      "<class 'int'>\n",
      "True\n"
     ]
    }
   ],
   "source": [
    "# Integer type\n",
    "price = 100\n",
    "best_price = int(80)\n",
    "\n",
    "print(type(price)) # checking the type of price\n",
    "print(isinstance(best_price, int)) # checking if best_price is of integer type"
   ]
  },
  {
   "cell_type": "code",
   "execution_count": 192,
   "id": "893ca4d0-e801-4de6-9f30-5bee603e04ad",
   "metadata": {},
   "outputs": [
    {
     "name": "stdout",
     "output_type": "stream",
     "text": [
      "<class 'float'>\n",
      "False\n"
     ]
    }
   ],
   "source": [
    "# float type\n",
    "gpa = 3.28\n",
    "y = float(1.14)\n",
    "\n",
    "print(type(gpa)) # checking the type of gpa\n",
    "print(isinstance(y, int)) # checking if y is of float type"
   ]
  },
  {
   "cell_type": "code",
   "execution_count": 193,
   "id": "d97f3eb6-04b0-4f17-a8c8-9d13b45cef1f",
   "metadata": {},
   "outputs": [
    {
     "name": "stdout",
     "output_type": "stream",
     "text": [
      "<class 'complex'>\n",
      "5.0\n",
      "3.0\n"
     ]
    }
   ],
   "source": [
    "# complex type --  used in advanced electrical projects. Beyond scope for this training\n",
    "comp_value = 5 + 3j\n",
    "\n",
    "print(type(comp_value))\n",
    "print(comp_value.real)\n",
    "print(comp_value.imag)"
   ]
  },
  {
   "cell_type": "markdown",
   "id": "9c5cb113-2ffd-45d8-b4cc-26ddab5aca1f",
   "metadata": {},
   "source": [
    "### Exercise 5: Built-in functions for numbers"
   ]
  },
  {
   "cell_type": "code",
   "execution_count": 195,
   "id": "992f93c1-8f57-4591-b9aa-4142d3c84d61",
   "metadata": {},
   "outputs": [
    {
     "name": "stdout",
     "output_type": "stream",
     "text": [
      "3.28\n",
      "3.28\n",
      "3\n",
      "3.3\n"
     ]
    }
   ],
   "source": [
    "print(abs(gpa))\n",
    "print(abs(gpa * -1)) # returns positive value\n",
    "print(round(gpa)) # rounds to the nearest integer\n",
    "print(round(gpa, 1)) # rounds to the nearest decimal value specified"
   ]
  },
  {
   "cell_type": "code",
   "execution_count": 196,
   "id": "6d285d6d-5510-4df6-85ef-9942e7c8a6fb",
   "metadata": {},
   "outputs": [],
   "source": [
    "import math # to perform additional math functions for numbers"
   ]
  },
  {
   "cell_type": "code",
   "execution_count": 197,
   "id": "fffd99a7-a008-4bca-a871-fb5aea0e365e",
   "metadata": {},
   "outputs": [
    {
     "name": "stdout",
     "output_type": "stream",
     "text": [
      "3.141592653589793\n"
     ]
    }
   ],
   "source": [
    "print(math.pi) # returns the value of the pi"
   ]
  },
  {
   "cell_type": "code",
   "execution_count": 198,
   "id": "46559b67-741f-4c3d-ad62-0a18b55b1130",
   "metadata": {},
   "outputs": [
    {
     "name": "stdout",
     "output_type": "stream",
     "text": [
      "8.0\n"
     ]
    }
   ],
   "source": [
    "print(math.sqrt(64)) # sqrt function returns the square root of the given number"
   ]
  },
  {
   "cell_type": "code",
   "execution_count": 199,
   "id": "e952c119-5ef2-4055-b493-f9a1708e62ee",
   "metadata": {},
   "outputs": [
    {
     "name": "stdout",
     "output_type": "stream",
     "text": [
      "4\n"
     ]
    }
   ],
   "source": [
    "print(math.ceil(gpa)) # returns the narest higher integer"
   ]
  },
  {
   "cell_type": "code",
   "execution_count": 200,
   "id": "5637349f-ddd6-40bd-a21e-258de9b16062",
   "metadata": {},
   "outputs": [
    {
     "name": "stdout",
     "output_type": "stream",
     "text": [
      "3\n"
     ]
    }
   ],
   "source": [
    "print(math.floor(gpa)) # return the nearest lower integer"
   ]
  },
  {
   "cell_type": "code",
   "execution_count": 201,
   "id": "97293abe-f2df-45ab-b5d2-93d192fd6981",
   "metadata": {},
   "outputs": [
    {
     "name": "stdout",
     "output_type": "stream",
     "text": [
      "<class 'int'>\n"
     ]
    }
   ],
   "source": [
    "# Casting a string to a number\n",
    "zipcode = '10001'\n",
    "zip_value = int(zipcode) # casting the string to an integer\n",
    "print(type(zip_value))"
   ]
  },
  {
   "cell_type": "code",
   "execution_count": 202,
   "id": "7cc7b6b6-cb5c-4e11-8ec1-608fbba48a04",
   "metadata": {},
   "outputs": [
    {
     "ename": "ValueError",
     "evalue": "invalid literal for int() with base 10: 'New York'",
     "output_type": "error",
     "traceback": [
      "\u001b[1;31m---------------------------------------------------------------------------\u001b[0m",
      "\u001b[1;31mValueError\u001b[0m                                Traceback (most recent call last)",
      "Cell \u001b[1;32mIn[202], line 2\u001b[0m\n\u001b[0;32m      1\u001b[0m \u001b[38;5;66;03m# Error if you cast incorrect data\u001b[39;00m\n\u001b[1;32m----> 2\u001b[0m zip_value \u001b[38;5;241m=\u001b[39m \u001b[38;5;28mint\u001b[39m(\u001b[38;5;124m\"\u001b[39m\u001b[38;5;124mNew York\u001b[39m\u001b[38;5;124m\"\u001b[39m)\n",
      "\u001b[1;31mValueError\u001b[0m: invalid literal for int() with base 10: 'New York'"
     ]
    }
   ],
   "source": [
    "# Error if you cast incorrect data\n",
    "zip_value = int(\"New York\")"
   ]
  },
  {
   "cell_type": "markdown",
   "id": "39f20cf9-193e-41c7-bacf-9b0ccf4f8836",
   "metadata": {},
   "source": [
    "# Chapter 5 - User Input\n",
    "### Exercise 1 - Accepting user inputs"
   ]
  },
  {
   "cell_type": "code",
   "execution_count": 206,
   "id": "0de841a4-c95e-4b0e-9157-e5e03175f3d7",
   "metadata": {},
   "outputs": [
    {
     "name": "stdin",
     "output_type": "stream",
     "text": [
      "Please enter a value:\n",
      " 3\n"
     ]
    },
    {
     "name": "stdout",
     "output_type": "stream",
     "text": [
      "3\n"
     ]
    }
   ],
   "source": [
    "value = input('Please enter a value:\\n') # input allows/prompts the user to enter the input\n",
    "\n",
    "print(value)\n"
   ]
  },
  {
   "cell_type": "code",
   "execution_count": 207,
   "id": "f7ffebf7-dd9f-45fe-99fe-ca5390803ae6",
   "metadata": {},
   "outputs": [
    {
     "name": "stdout",
     "output_type": "stream",
     "text": [
      "\n"
     ]
    },
    {
     "name": "stdin",
     "output_type": "stream",
     "text": [
      "Enter...\n",
      "1 for Rock, \n",
      "2 for Paper, or \n",
      "3 for Scissors:\n",
      "\n",
      " 3\n"
     ]
    },
    {
     "name": "stdout",
     "output_type": "stream",
     "text": [
      "\n",
      "You chose SCISSORS.\n",
      "Python chose SCISSORS.\n",
      "\n",
      "😲Tie game!\n"
     ]
    }
   ],
   "source": [
    "import sys\n",
    "import random # to make computer choice random\n",
    "from enum import Enum\n",
    "\n",
    "class RPS(Enum):\n",
    "    ROCK = 1\n",
    "    PAPER = 2\n",
    "    SCISSORS = 3\n",
    "\n",
    "print(\"\")\n",
    "playerchoice = input(\"Enter...\\n1 for Rock, \\n2 for Paper, or \\n3 for Scissors:\\n\\n\")\n",
    "\n",
    "player = int(playerchoice)\n",
    "if player < 1 or player > 3:\n",
    "    sys.exit(\"You must enter 1, 2, or 3.\") # this command prints the message and exists the program\n",
    "\n",
    "computerchoice = random.choice('123')\n",
    "computer = int(computerchoice)\n",
    "\n",
    "print(\"\")\n",
    "print(\"You chose \" + str(RPS(player)).replace('RPS.',\"\") + \".\")\n",
    "print(\"Python chose \" + str(RPS(computer)).replace('RPS.',\"\") + \".\")\n",
    "print(\"\")\n",
    "\n",
    "if player == 1 and computer == 3:\n",
    "    print(\"🎉You win!\") # press windows + period to load emojis menu\n",
    "elif player == 2 and computer == 1:\n",
    "    print(\"🎉You win!\")\n",
    "elif player == 3 and computer == 2:\n",
    "    print(\"🎉You win!\")\n",
    "elif player == computer:\n",
    "    print(\"😲Tie game!\")\n",
    "else:\n",
    "    print(\"🐍Python wins!\")"
   ]
  },
  {
   "cell_type": "markdown",
   "id": "34672e76-4b72-417e-ac27-47d3a2f1daf0",
   "metadata": {},
   "source": [
    "# Chapter 6 - Lists and Tuples\n",
    "### Exercise 1: Defining and working with lists\n",
    "##### Lists are one of four collection data types in python. They hold mutiple values and we can reference them using the common name of that list."
   ]
  },
  {
   "cell_type": "code",
   "execution_count": 284,
   "id": "fa9bca01-b346-4c0b-b891-49c853a1f5e4",
   "metadata": {},
   "outputs": [],
   "source": [
    "users = ['Dave', 'Anna', 'Emma'] # lists with similar variables"
   ]
  },
  {
   "cell_type": "code",
   "execution_count": 286,
   "id": "ec305b7a-4385-4f42-96ea-bd0ae9205ef6",
   "metadata": {},
   "outputs": [],
   "source": [
    "data = ['Dave', 42, True] # this is also a valid list with multiple datatypes"
   ]
  },
  {
   "cell_type": "code",
   "execution_count": 288,
   "id": "95ac2c0a-53c8-417f-af70-d314ea4ed57d",
   "metadata": {},
   "outputs": [],
   "source": [
    "emptylist = [] # we can also define an empty list"
   ]
  },
  {
   "cell_type": "code",
   "execution_count": 290,
   "id": "77aa1c8e-c974-4fae-b404-04305005b5cd",
   "metadata": {},
   "outputs": [
    {
     "name": "stdout",
     "output_type": "stream",
     "text": [
      "True\n"
     ]
    }
   ],
   "source": [
    "print('Dave' in data) # to check if a value exists in a particular list or not"
   ]
  },
  {
   "cell_type": "code",
   "execution_count": 292,
   "id": "bb6f737d-6909-467a-bce2-a9c3f16ad390",
   "metadata": {},
   "outputs": [
    {
     "ename": "NameError",
     "evalue": "name 'empty' is not defined",
     "output_type": "error",
     "traceback": [
      "\u001b[1;31m---------------------------------------------------------------------------\u001b[0m",
      "\u001b[1;31mNameError\u001b[0m                                 Traceback (most recent call last)",
      "Cell \u001b[1;32mIn[292], line 1\u001b[0m\n\u001b[1;32m----> 1\u001b[0m \u001b[38;5;28mprint\u001b[39m(\u001b[38;5;124m'\u001b[39m\u001b[38;5;124mDave\u001b[39m\u001b[38;5;124m'\u001b[39m \u001b[38;5;129;01min\u001b[39;00m empty)\n",
      "\u001b[1;31mNameError\u001b[0m: name 'empty' is not defined"
     ]
    }
   ],
   "source": [
    "print('Dave' in empty)"
   ]
  },
  {
   "cell_type": "code",
   "execution_count": 294,
   "id": "c02878d3-510c-4bfe-adfb-10a741d21b99",
   "metadata": {},
   "outputs": [
    {
     "name": "stdout",
     "output_type": "stream",
     "text": [
      "Dave\n",
      "Emma\n",
      "Anna\n"
     ]
    }
   ],
   "source": [
    "# Lists start with 0 index\n",
    "print(users[0])\n",
    "print(users[-1]) # negative index can be used for getting values from last. Last value index would be -1 and 2nd from the last would be -2 and so on\n",
    "print(users[-2])"
   ]
  },
  {
   "cell_type": "code",
   "execution_count": 296,
   "id": "2f344ecf-cbf0-4bce-83bd-534572147f9a",
   "metadata": {},
   "outputs": [
    {
     "name": "stdout",
     "output_type": "stream",
     "text": [
      "2\n"
     ]
    }
   ],
   "source": [
    "print(users.index('Emma')) # to get the position (index) of a particular value"
   ]
  },
  {
   "cell_type": "code",
   "execution_count": 298,
   "id": "c736d65a-aa15-4baf-9e92-27741ed27cef",
   "metadata": {},
   "outputs": [
    {
     "name": "stdout",
     "output_type": "stream",
     "text": [
      "['Dave', 'Anna']\n"
     ]
    }
   ],
   "source": [
    "print(users[0:2])\n",
    "# Last value is not included in the defined range. Here user in position 2 would not be returned"
   ]
  },
  {
   "cell_type": "code",
   "execution_count": 300,
   "id": "79b30a1c-ebdc-41fa-b473-8f0a282aa6b9",
   "metadata": {},
   "outputs": [
    {
     "name": "stdout",
     "output_type": "stream",
     "text": [
      "['Anna', 'Emma']\n"
     ]
    }
   ],
   "source": [
    "print(users[1:]) # to get the list from 2nd position (index 1) till the last value"
   ]
  },
  {
   "cell_type": "code",
   "execution_count": 302,
   "id": "f9d2e888-df31-4e5d-bb10-2fbc947d4ab2",
   "metadata": {},
   "outputs": [
    {
     "name": "stdout",
     "output_type": "stream",
     "text": [
      "['Dave', 'Anna']\n"
     ]
    }
   ],
   "source": [
    "print(users[-3:-1]) # using negative index.\n",
    "# Similar to the positive index, "
   ]
  },
  {
   "cell_type": "code",
   "execution_count": 304,
   "id": "f6c9c00c-16d0-423e-bac0-90e65af20340",
   "metadata": {},
   "outputs": [
    {
     "name": "stdout",
     "output_type": "stream",
     "text": [
      "3\n"
     ]
    }
   ],
   "source": [
    "#length of the list: len function can be used\n",
    "print(len(users))\n"
   ]
  },
  {
   "cell_type": "code",
   "execution_count": 306,
   "id": "ad02c127-7c2a-4fc5-9a00-6b5f7b8c4e80",
   "metadata": {},
   "outputs": [],
   "source": [
    "# Append more values to the list\n",
    "users.append('Elsa')"
   ]
  },
  {
   "cell_type": "code",
   "execution_count": 308,
   "id": "41a6c3a1-6524-4f81-9976-bd6892a40841",
   "metadata": {},
   "outputs": [
    {
     "name": "stdout",
     "output_type": "stream",
     "text": [
      "['Dave', 'Anna', 'Emma', 'Elsa']\n"
     ]
    }
   ],
   "source": [
    "print(users) # printing the list"
   ]
  },
  {
   "cell_type": "code",
   "execution_count": 310,
   "id": "fde0790a-6329-4c44-ba31-bb6e645d39a2",
   "metadata": {},
   "outputs": [
    {
     "name": "stdout",
     "output_type": "stream",
     "text": [
      "['Dave', 'Anna', 'Emma', 'Elsa', 'Jason']\n"
     ]
    }
   ],
   "source": [
    "# Addint two lists\n",
    "# We have two user lists. We need to combine both the lists\n",
    "# First method\n",
    "users += ['Jason'] \n",
    "# if the list is not specified with in [], it considers every letter as a separate element of the list\n",
    "print(users)"
   ]
  },
  {
   "cell_type": "code",
   "execution_count": 312,
   "id": "564a4eb4-62d0-485b-a2a4-7ae8405b1bf7",
   "metadata": {},
   "outputs": [],
   "source": [
    "# Second method using 'extend'\n",
    "users.extend(['Robert', 'Jimmy'])"
   ]
  },
  {
   "cell_type": "code",
   "execution_count": 314,
   "id": "2052cf2a-62b9-46db-b3c1-929097c42c62",
   "metadata": {},
   "outputs": [
    {
     "name": "stdout",
     "output_type": "stream",
     "text": [
      "['Dave', 'Anna', 'Emma', 'Elsa', 'Jason', 'Robert', 'Jimmy']\n"
     ]
    }
   ],
   "source": [
    "print(users)"
   ]
  },
  {
   "cell_type": "code",
   "execution_count": 316,
   "id": "61567724-3f8e-4e76-a62c-312d8443cfbd",
   "metadata": {},
   "outputs": [
    {
     "name": "stdout",
     "output_type": "stream",
     "text": [
      "['Dave', 'Anna', 'Emma', 'Elsa', 'Jason', 'Robert', 'Jimmy', 'Dave', 42, True]\n"
     ]
    }
   ],
   "source": [
    "# adding two lists togeter\n",
    "users.extend(data) # check if append can be used same way\n",
    "print(users)\n",
    "# Every append/extend operation adds the elements at the end of the list\n",
    "# To append at the beginning or at any other position, it needs to be specified explicitly"
   ]
  },
  {
   "cell_type": "code",
   "execution_count": 318,
   "id": "7fbb9d5f-342a-4026-979a-25fc5ccf8d8e",
   "metadata": {},
   "outputs": [
    {
     "name": "stdout",
     "output_type": "stream",
     "text": [
      "['Bob', 'Dave', 'Anna', 'Emma', 'Elsa', 'Jason', 'Robert', 'Jimmy', 'Dave', 42, True]\n"
     ]
    }
   ],
   "source": [
    "users.insert(0, 'Bob') # Adds Bob at the index 0 i.e., at the beginning\n",
    "print(users)"
   ]
  },
  {
   "cell_type": "code",
   "execution_count": 320,
   "id": "bc84922b-94c1-4c80-9e60-4708a605ad27",
   "metadata": {},
   "outputs": [
    {
     "name": "stdout",
     "output_type": "stream",
     "text": [
      "['Bob', 'Dave', 'Eddie', 'Alex', 'Anna', 'Emma', 'Elsa', 'Jason', 'Robert', 'Jimmy', 'Dave', 42, True]\n"
     ]
    }
   ],
   "source": [
    "users[2:2] = ['Eddie', 'Alex'] # inserting values into the middle of the list without losing existing ones\n",
    "# by specifying the start and end as the same position\n",
    "print(users)"
   ]
  },
  {
   "cell_type": "code",
   "execution_count": 322,
   "id": "1a7f5be2-6983-48db-913a-6d0e7e5d9b1e",
   "metadata": {},
   "outputs": [
    {
     "name": "stdout",
     "output_type": "stream",
     "text": [
      "['Bob', 'Robert', 'JPJ', 'Alex', 'Anna', 'Emma', 'Elsa', 'Jason', 'Robert', 'Jimmy', 'Dave', 42, True]\n"
     ]
    }
   ],
   "source": [
    " users[1:3] = ['Robert', 'JPJ'] # replaces the values in those positions specified\n",
    "print(users)"
   ]
  },
  {
   "cell_type": "code",
   "execution_count": 324,
   "id": "6748d27c-233e-4701-b5e7-3a6924f8d945",
   "metadata": {},
   "outputs": [
    {
     "name": "stdout",
     "output_type": "stream",
     "text": [
      "['Robert', 'JPJ', 'Alex', 'Anna', 'Emma', 'Elsa', 'Jason', 'Robert', 'Jimmy', 'Dave', 42, True]\n"
     ]
    }
   ],
   "source": [
    "# deleting values from the list\n",
    "\n",
    "users.remove('Bob')\n",
    "print(users)"
   ]
  },
  {
   "cell_type": "code",
   "execution_count": 326,
   "id": "adc0e059-5b48-4b19-af40-5c0648886a60",
   "metadata": {},
   "outputs": [
    {
     "name": "stdout",
     "output_type": "stream",
     "text": [
      "['Robert', 'JPJ', 'Alex', 'Anna', 'Emma', 'Elsa', 'Jason', 'Robert', 'Jimmy', 'Dave', 42, True]\n"
     ]
    }
   ],
   "source": [
    "print(users)"
   ]
  },
  {
   "cell_type": "code",
   "execution_count": 328,
   "id": "d78f6eab-c96c-43df-a42a-94cb598812bd",
   "metadata": {},
   "outputs": [
    {
     "name": "stdout",
     "output_type": "stream",
     "text": [
      "True\n",
      "['Robert', 'JPJ', 'Alex', 'Anna', 'Emma', 'Elsa', 'Jason', 'Robert', 'Jimmy', 'Dave', 42]\n"
     ]
    }
   ],
   "source": [
    "# deleting the last item on the list using pop method\n",
    "print(users.pop())\n",
    "print(users)"
   ]
  },
  {
   "cell_type": "code",
   "execution_count": 330,
   "id": "0c8e1ba0-3bc1-40c8-808b-405187703fce",
   "metadata": {},
   "outputs": [
    {
     "name": "stdout",
     "output_type": "stream",
     "text": [
      "['JPJ', 'Alex', 'Anna', 'Emma', 'Elsa', 'Jason', 'Robert', 'Jimmy', 'Dave', 42]\n"
     ]
    }
   ],
   "source": [
    "# deleting items using del \n",
    "del users[0]\n",
    "print(users)"
   ]
  },
  {
   "cell_type": "code",
   "execution_count": 336,
   "id": "f8877958-c3bc-4e39-ba42-312a1f8be5c8",
   "metadata": {},
   "outputs": [
    {
     "name": "stdout",
     "output_type": "stream",
     "text": [
      "['Alex', 'Anna', 'Dave', 'Elsa', 'Emma', 'JPJ', 'Jason', 'Jimmy', 'Robert']\n"
     ]
    }
   ],
   "source": [
    "# deleting items using del \n",
    "del users[-1]\n",
    "print(users)"
   ]
  },
  {
   "cell_type": "code",
   "execution_count": 332,
   "id": "4c85a060-cc27-40fd-8f79-7554a4c79e83",
   "metadata": {},
   "outputs": [
    {
     "name": "stdout",
     "output_type": "stream",
     "text": [
      "[]\n"
     ]
    }
   ],
   "source": [
    "# deleting entire data from the list, using clear(). List will be empty after this\n",
    "data.clear()\n",
    "print(data)"
   ]
  },
  {
   "cell_type": "code",
   "execution_count": 338,
   "id": "839fe431-c588-4c7a-a947-abe251e115a9",
   "metadata": {},
   "outputs": [
    {
     "name": "stdout",
     "output_type": "stream",
     "text": [
      "['Alex', 'Anna', 'Dave', 'Elsa', 'Emma', 'JPJ', 'Jason', 'Jimmy', 'Robert']\n"
     ]
    }
   ],
   "source": [
    "# sorting this lists\n",
    "users.sort()\n",
    "print(users)"
   ]
  },
  {
   "cell_type": "code",
   "execution_count": 340,
   "id": "2b4729b8-e960-43cd-bf7b-857989fa9843",
   "metadata": {},
   "outputs": [
    {
     "name": "stdout",
     "output_type": "stream",
     "text": [
      "['Alex', 'Dave', 'Elsa', 'Emma', 'JPJ', 'Jason', 'Jimmy', 'Robert', 'dave']\n"
     ]
    }
   ],
   "source": [
    "users[1:2] = ['dave'] \n",
    "users.sort() #first uppercase will be sorted and then lowercase\n",
    "print(users)"
   ]
  },
  {
   "cell_type": "code",
   "execution_count": 342,
   "id": "24deb76c-c0d8-4c29-bc09-193ca62c0474",
   "metadata": {},
   "outputs": [
    {
     "name": "stdout",
     "output_type": "stream",
     "text": [
      "['Alex', 'Dave', 'dave', 'Elsa', 'Emma', 'Jason', 'Jimmy', 'JPJ', 'Robert']\n"
     ]
    }
   ],
   "source": [
    "users.sort(key=str.lower) # to include lower case in the sort\n",
    "print(users)"
   ]
  },
  {
   "cell_type": "code",
   "execution_count": 358,
   "id": "30ae8b0b-1a4f-419f-8ec2-3e2dbdb2392d",
   "metadata": {},
   "outputs": [
    {
     "name": "stdout",
     "output_type": "stream",
     "text": [
      "[5, 1, 78, 42, 4]\n"
     ]
    }
   ],
   "source": [
    "nums = [4,42, 78, 1, 5]\n",
    "nums.reverse() #reverse the current order. Nothing to do with sorting\n",
    "print(nums)"
   ]
  },
  {
   "cell_type": "code",
   "execution_count": 360,
   "id": "9c27149c-9173-4584-897e-6ccb9dfd48f4",
   "metadata": {},
   "outputs": [
    {
     "name": "stdout",
     "output_type": "stream",
     "text": [
      "[78, 42, 5, 4, 1]\n",
      "[5, 1, 78, 42, 4]\n"
     ]
    }
   ],
   "source": [
    "print(sorted(nums, reverse = True)) # global sorted function\n",
    "#does not alter the original list.\n",
    "print(nums)"
   ]
  },
  {
   "cell_type": "code",
   "execution_count": 370,
   "id": "25bcc5b8-eb01-40fb-a965-3f5dd11bf874",
   "metadata": {},
   "outputs": [
    {
     "name": "stdout",
     "output_type": "stream",
     "text": [
      "[5, 1, 78, 42, 4]\n",
      "[5, 1, 78, 42, 4]\n",
      "[1, 4, 5, 42, 78]\n",
      "[5, 1, 78, 42, 4]\n"
     ]
    }
   ],
   "source": [
    "#copying the list to ther lists\n",
    "numscopy = nums.copy()\n",
    "mynums = list(nums)\n",
    "mycopy = nums[:]\n",
    "\n",
    "print(numscopy)\n",
    "print(mynums)\n",
    "mycopy.sort() #alters the copy. does not impact original\n",
    "print(mycopy)\n",
    "print(nums)"
   ]
  },
  {
   "cell_type": "code",
   "execution_count": 372,
   "id": "05d5b76f-bbf2-4b49-afba-4de1fd863435",
   "metadata": {},
   "outputs": [
    {
     "name": "stdout",
     "output_type": "stream",
     "text": [
      "[78, 42, 5, 4, 1]\n"
     ]
    }
   ],
   "source": [
    "nums.sort(reverse = True) # reverse = true sorts but, in descending order\n",
    "print(nums) # list is sorted and stored to original list in sorted manner"
   ]
  },
  {
   "cell_type": "code",
   "execution_count": 374,
   "id": "2c964d24-48f9-473a-9519-78c3788420e4",
   "metadata": {},
   "outputs": [
    {
     "name": "stdout",
     "output_type": "stream",
     "text": [
      "<class 'list'>\n"
     ]
    }
   ],
   "source": [
    "print(type(nums))"
   ]
  },
  {
   "cell_type": "code",
   "execution_count": 376,
   "id": "c5a8092d-e833-484b-b56f-3eaacec48aed",
   "metadata": {},
   "outputs": [
    {
     "name": "stdout",
     "output_type": "stream",
     "text": [
      "[1, 'Viva', True]\n"
     ]
    }
   ],
   "source": [
    "mylist = list([1, 'Viva', True]) #entering list values using list\n",
    "print(mylist)"
   ]
  },
  {
   "cell_type": "markdown",
   "id": "553ac903-bd70-4b3c-8b35-7b87058307d2",
   "metadata": {},
   "source": [
    "### Exercise 2: Defining and Working with Tuples\n",
    "\n",
    "##### Tuples are similar to lists. Except, the data as in order of the data inside the tuple will not change"
   ]
  },
  {
   "cell_type": "code",
   "execution_count": 380,
   "id": "70ee7c45-67eb-4dbc-8b56-c50a42fbe72a",
   "metadata": {},
   "outputs": [
    {
     "name": "stdout",
     "output_type": "stream",
     "text": [
      "('Viva', 36, True)\n",
      "<class 'tuple'>\n",
      "<class 'tuple'>\n"
     ]
    }
   ],
   "source": [
    "mytuple = tuple(('Viva', 36, True))\n",
    "anothertuple = (1, 4, 2, 8)\n",
    "print(mytuple)\n",
    "print(type(mytuple))\n",
    "print(type(anothertuple))"
   ]
  },
  {
   "cell_type": "code",
   "execution_count": 382,
   "id": "a6f132c1-7a25-48ed-bb76-c08b50b9903f",
   "metadata": {},
   "outputs": [
    {
     "name": "stdout",
     "output_type": "stream",
     "text": [
      "('Viva', 36, True, 'Neil')\n"
     ]
    }
   ],
   "source": [
    "newlist = list(mytuple)\n",
    "newlist.append('Neil')\n",
    "newtuple = tuple(newlist)\n",
    "print(newtuple)"
   ]
  },
  {
   "cell_type": "code",
   "execution_count": 390,
   "id": "9bb65702-0d6d-4907-9cd3-f94c9093eb00",
   "metadata": {},
   "outputs": [
    {
     "name": "stdout",
     "output_type": "stream",
     "text": [
      "1\n",
      "[4, 2]\n",
      "8\n"
     ]
    }
   ],
   "source": [
    "(one, *two, hey) = anothertuple #unpacking the tuple\n",
    "# this assigns each value of the tuple to the variable names passed\n",
    "# varuable name * gets all the remaining values into it in the list form\n",
    "# this * doesn't have to be defined at the end or beginning\n",
    "print(one)\n",
    "print(two)\n",
    "print(hey)"
   ]
  },
  {
   "cell_type": "code",
   "execution_count": 392,
   "id": "2cec2dd7-dc33-4762-8d7e-e094e9713503",
   "metadata": {},
   "outputs": [
    {
     "name": "stdout",
     "output_type": "stream",
     "text": [
      "1\n"
     ]
    }
   ],
   "source": [
    "print(anothertuple.count(4)) # counting the occurance of a particular value in the tuple"
   ]
  },
  {
   "cell_type": "markdown",
   "id": "908bc986-e9ae-4f83-9fc1-08e7c9d21c95",
   "metadata": {},
   "source": [
    "# Chapter 7: Dictionaries & Sets\n",
    "### Exercise 1: Dictionaries\n",
    "##### Working with and accessing dictionaries"
   ]
  },
  {
   "cell_type": "code",
   "execution_count": 400,
   "id": "980b9f00-af90-4b36-947d-c0e6f43e0b3c",
   "metadata": {},
   "outputs": [
    {
     "name": "stdout",
     "output_type": "stream",
     "text": [
      "{'vocals': 'Plant', 'guitar': 'Page'}\n",
      "{'vocals': 'Plant', 'guitar': 'Page'}\n",
      "<class 'dict'>\n",
      "2\n"
     ]
    }
   ],
   "source": [
    "# definition method one\n",
    "\n",
    "band = {\n",
    "    \"vocals\": \"Plant\",\n",
    "    \"guitar\": \"Page\"\n",
    "}\n",
    "\n",
    "# definition method two\n",
    "\n",
    "band2 = dict(vocals = \"Plant\", guitar = \"Page\")\n",
    "\n",
    "print(band)\n",
    "print(band2)\n",
    "print(type(band))\n",
    "print(len(band))"
   ]
  },
  {
   "cell_type": "code",
   "execution_count": 404,
   "id": "a61d9709-6f5a-4fdf-88eb-5055dc34a42c",
   "metadata": {},
   "outputs": [
    {
     "name": "stdout",
     "output_type": "stream",
     "text": [
      "Plant\n",
      "Page\n"
     ]
    }
   ],
   "source": [
    "# Accessing the items in dctionaries\n",
    "\n",
    "print(band[\"vocals\"])\n",
    "print(band2.get(\"guitar\"))"
   ]
  },
  {
   "cell_type": "code",
   "execution_count": 408,
   "id": "848ffdc2-6128-4170-b88a-55aa5cc4a325",
   "metadata": {},
   "outputs": [
    {
     "name": "stdout",
     "output_type": "stream",
     "text": [
      "dict_keys(['vocals', 'guitar'])\n",
      "dict_values(['Plant', 'Page'])\n"
     ]
    }
   ],
   "source": [
    "print(band.keys()) # print all keys\n",
    "print(band.values()) # print all values in the dictionary"
   ]
  },
  {
   "cell_type": "code",
   "execution_count": 410,
   "id": "b7637cfd-65a9-4f82-a843-f1b2b40b88a2",
   "metadata": {},
   "outputs": [
    {
     "name": "stdout",
     "output_type": "stream",
     "text": [
      "dict_items([('vocals', 'Plant'), ('guitar', 'Page')])\n"
     ]
    }
   ],
   "source": [
    "# list of key/value pairs as tuples\n",
    "print(band.items())"
   ]
  },
  {
   "cell_type": "code",
   "execution_count": 412,
   "id": "fe9d4234-afa7-45a9-a855-dc6fadcead98",
   "metadata": {},
   "outputs": [
    {
     "name": "stdout",
     "output_type": "stream",
     "text": [
      "True\n",
      "False\n"
     ]
    }
   ],
   "source": [
    "# verify if a key exists in a dictionary\n",
    "print(\"guitar\" in band)\n",
    "print(\"cow\" in band)"
   ]
  },
  {
   "cell_type": "code",
   "execution_count": 416,
   "id": "d20ebd99-e393-49be-8cfe-55aa7d0c770c",
   "metadata": {},
   "outputs": [
    {
     "name": "stdout",
     "output_type": "stream",
     "text": [
      "{'vocals': 'Coverdale', 'guitar': 'Page', 'bass': 'JPJ'}\n"
     ]
    }
   ],
   "source": [
    "#change values\n",
    "band[\"vocals\"] = \"Coverdale\" # updates the values of mentioned key\n",
    "band.update({\"bass\":\"JPJ\"}) #updates or adds a new set f key and value\n",
    "print(band)"
   ]
  },
  {
   "cell_type": "code",
   "execution_count": 418,
   "id": "c3845770-29b3-4bd8-97ef-378fb37a80bf",
   "metadata": {},
   "outputs": [
    {
     "name": "stdout",
     "output_type": "stream",
     "text": [
      "JPJ\n",
      "{'vocals': 'Coverdale', 'guitar': 'Page'}\n"
     ]
    }
   ],
   "source": [
    "# remove items\n",
    "print(band.pop(\"bass\")) # returns the value of the key mentioned and that key/value pair would be removed from the dictionary\n",
    "print(band)"
   ]
  },
  {
   "cell_type": "code",
   "execution_count": 422,
   "id": "7b7ddd84-8f48-4381-abb7-660416ff26f9",
   "metadata": {},
   "outputs": [
    {
     "name": "stdout",
     "output_type": "stream",
     "text": [
      "{'vocals': 'Coverdale', 'guitar': 'Page', 'durms': 'Bonham'}\n"
     ]
    }
   ],
   "source": [
    "band[\"durms\"] = \"Bonham\"\n",
    "print(band)"
   ]
  },
  {
   "cell_type": "code",
   "execution_count": 426,
   "id": "95e7b653-e7e3-45f1-9187-412e3be28ff1",
   "metadata": {},
   "outputs": [
    {
     "name": "stdout",
     "output_type": "stream",
     "text": [
      "('durms', 'Bonham')\n",
      "{'vocals': 'Coverdale', 'guitar': 'Page'}\n"
     ]
    }
   ],
   "source": [
    "print(band.popitem()) # removes the last set of key/value. Also, prints the removed set as a tuple.\n",
    "print(band)"
   ]
  },
  {
   "cell_type": "code",
   "execution_count": 432,
   "id": "5b4095c3-e0fd-452b-819a-8d0d4c12348f",
   "metadata": {},
   "outputs": [
    {
     "name": "stdout",
     "output_type": "stream",
     "text": [
      "{'vocals': 'Coverdale', 'guitar': 'Page', 'durms': 'Bonham'}\n"
     ]
    }
   ],
   "source": [
    "band[\"durms\"] = \"Bonham\"\n",
    "print(band)"
   ]
  },
  {
   "cell_type": "code",
   "execution_count": 436,
   "id": "f837b339-4f0b-49f9-975f-1c7eeea8c495",
   "metadata": {},
   "outputs": [
    {
     "name": "stdout",
     "output_type": "stream",
     "text": [
      "{'guitar': 'Page', 'durms': 'Bonham'}\n"
     ]
    }
   ],
   "source": [
    "del band[\"vocals\"]  # deletes the key/value pair as per the key mentioned\n",
    "print(band)"
   ]
  },
  {
   "cell_type": "code",
   "execution_count": 438,
   "id": "d9d0cd52-3ec1-4228-94f1-cc7e05591944",
   "metadata": {},
   "outputs": [
    {
     "name": "stdout",
     "output_type": "stream",
     "text": [
      "{'guitar': 'Page', 'durms': 'Bonham', 'vocals': 'Coverdale'}\n"
     ]
    }
   ],
   "source": [
    "band[\"vocals\"] = \"Coverdale\"\n",
    "print(band)"
   ]
  },
  {
   "cell_type": "code",
   "execution_count": 440,
   "id": "96cbeff9-7a0e-4efd-85ba-6f11203fbc84",
   "metadata": {},
   "outputs": [
    {
     "name": "stdout",
     "output_type": "stream",
     "text": [
      "{'guitar': 'Page', 'vocals': 'Coverdale'}\n"
     ]
    }
   ],
   "source": [
    "del band[\"durms\"]  # deletes the key/value pair as per the key mentioned\n",
    "print(band)"
   ]
  },
  {
   "cell_type": "code",
   "execution_count": 442,
   "id": "17687ba4-59d4-4a7c-a9e6-45a9ab2670f9",
   "metadata": {},
   "outputs": [
    {
     "name": "stdout",
     "output_type": "stream",
     "text": [
      "{}\n"
     ]
    }
   ],
   "source": [
    "# emptying the entire dictionary\n",
    "band2.clear()\n",
    "print(band2) # band2 would be an empty dictionary after clear statement"
   ]
  },
  {
   "cell_type": "code",
   "execution_count": 444,
   "id": "45f77d55-9922-4201-98fc-724a5fe8304d",
   "metadata": {},
   "outputs": [],
   "source": [
    "del band2 # deletes the dictionary"
   ]
  },
  {
   "cell_type": "code",
   "execution_count": 446,
   "id": "bf40f637-bcfa-4f79-8ddb-11f7a96be226",
   "metadata": {},
   "outputs": [
    {
     "name": "stdout",
     "output_type": "stream",
     "text": [
      "Bad Copy\n",
      "{'guitar': 'Page', 'vocals': 'Coverdale'}\n",
      "{'guitar': 'Page', 'vocals': 'Coverdale'}\n",
      "{'guitar': 'Page', 'vocals': 'Coverdale', 'drums': 'Dave'}\n"
     ]
    }
   ],
   "source": [
    "# Copy dictionaries\n",
    "\n",
    "band2 = band # creates a reference.\n",
    "# This means both are referring to same place in memory or same dictionary\n",
    "# Changing one would alter the other one too\n",
    "print(\"Bad Copy\")\n",
    "print(band2)\n",
    "print(band)\n",
    "\n",
    "band2[\"drums\"] = \"Dave\"\n",
    "print(band)"
   ]
  },
  {
   "cell_type": "code",
   "execution_count": 450,
   "id": "128768f4-39ae-4a81-8cfb-abb6ba1176a7",
   "metadata": {},
   "outputs": [
    {
     "name": "stdout",
     "output_type": "stream",
     "text": [
      "{'guitar': 'Page', 'vocals': 'Coverdale'}\n"
     ]
    }
   ],
   "source": [
    "del band[\"drums\"]\n",
    "print(band2)"
   ]
  },
  {
   "cell_type": "code",
   "execution_count": 452,
   "id": "0b4ee496-b42c-459a-af38-0fc1ddd036cb",
   "metadata": {},
   "outputs": [
    {
     "name": "stdout",
     "output_type": "stream",
     "text": [
      "Good Copy!\n",
      "{'guitar': 'Page', 'vocals': 'Coverdale', 'drums': 'Dave'}\n",
      "{'guitar': 'Page', 'vocals': 'Coverdale'}\n"
     ]
    }
   ],
   "source": [
    "band_new = band.copy() # actually creates a copy\n",
    "band_new[\"drums\"] = \"Dave\" # does not alter the original dictionary\n",
    "print(\"Good Copy!\")\n",
    "print(band_new)\n",
    "print(band)"
   ]
  },
  {
   "cell_type": "code",
   "execution_count": 454,
   "id": "026e606b-b9fe-4e5a-bb3d-cdc72f198fef",
   "metadata": {},
   "outputs": [
    {
     "name": "stdout",
     "output_type": "stream",
     "text": [
      "Good Copy!\n",
      "{'guitar': 'Page', 'vocals': 'Coverdale'}\n"
     ]
    }
   ],
   "source": [
    "# use dict() cnosturctor function to make a copy\n",
    "\n",
    "band3 = dict(band)\n",
    "print(\"Good Copy!\")\n",
    "print(band3)"
   ]
  },
  {
   "cell_type": "code",
   "execution_count": 458,
   "id": "411e38e0-c601-4e78-b833-95aedfbfc003",
   "metadata": {},
   "outputs": [
    {
     "name": "stdout",
     "output_type": "stream",
     "text": [
      "{'member1': {'name': 'Plant', 'instrument': 'Vovals'}, 'member2': {'name': 'Page', 'instrument': 'guitar'}}\n",
      "Plant\n"
     ]
    }
   ],
   "source": [
    "# nested dictinaries\n",
    "member1 = {\n",
    "    \"name\": \"Plant\",\n",
    "    \"instrument\": \"Vovals\"\n",
    "}\n",
    "member2 = {\n",
    "    \"name\": \"Page\",\n",
    "    \"instrument\": \"guitar\"\n",
    "}\n",
    "band = {\n",
    "    \"member1\": member1,\n",
    "    \"member2\": member2\n",
    "}\n",
    "print(band)\n",
    "print(band[\"member1\"][\"name\"])"
   ]
  },
  {
   "cell_type": "markdown",
   "id": "357016ef-3c7a-4b2c-a407-618868d9a7a9",
   "metadata": {},
   "source": [
    "### Exercise 2: Sets\n",
    "##### Working with sets - NO duplicates are allowed in sets"
   ]
  },
  {
   "cell_type": "code",
   "execution_count": 467,
   "id": "a05bf4eb-3051-4cc1-8f3a-4a00aaaeb28b",
   "metadata": {},
   "outputs": [
    {
     "name": "stdout",
     "output_type": "stream",
     "text": [
      "{1, 2, 3, 4}\n",
      "{1, 2, 3, 4}\n",
      "<class 'set'>\n",
      "4\n"
     ]
    }
   ],
   "source": [
    "# creating sets\n",
    "num_set = {1, 2, 3, 4}\n",
    "num_set2 = set((1, 2, 3, 4))\n",
    "\n",
    "print(num_set)\n",
    "print(num_set2)\n",
    "print(type(num_set))\n",
    "print(len(num_set))"
   ]
  },
  {
   "cell_type": "code",
   "execution_count": 470,
   "id": "fd8ed1df-577e-4f75-aa9e-cacf3bc7743c",
   "metadata": {},
   "outputs": [
    {
     "name": "stdout",
     "output_type": "stream",
     "text": [
      "{1, 2, 3}\n"
     ]
    }
   ],
   "source": [
    "nums_test = {1, 2, 3, 3}\n",
    "print(nums_test)"
   ]
  },
  {
   "cell_type": "code",
   "execution_count": 472,
   "id": "d938770e-f7e8-4f3a-94ac-660200f98fda",
   "metadata": {},
   "outputs": [
    {
     "name": "stdout",
     "output_type": "stream",
     "text": [
      "{False, 1, 2, 3, 4}\n"
     ]
    }
   ],
   "source": [
    "# True is a dupe of 1, Flase is a dupe of 0\n",
    "nums_new = {1, True, 2, False, 3, 4, 0}\n",
    "print(nums_new) # removes duplicates and orders in ascending"
   ]
  },
  {
   "cell_type": "code",
   "execution_count": 476,
   "id": "50aeb575-ea34-404d-98ee-3693545a1107",
   "metadata": {},
   "outputs": [
    {
     "name": "stdout",
     "output_type": "stream",
     "text": [
      "True\n"
     ]
    }
   ],
   "source": [
    "# check if a value is in a set\n",
    "print(2 in nums_new) \n",
    "\n",
    "# but you cannot refer to an element in the set with an index position or a key"
   ]
  },
  {
   "cell_type": "code",
   "execution_count": 478,
   "id": "4567ad7e-73bb-4c2f-8c64-133380b175b4",
   "metadata": {},
   "outputs": [
    {
     "name": "stdout",
     "output_type": "stream",
     "text": [
      "{False, 1, 2, 3, 4, 8}\n"
     ]
    }
   ],
   "source": [
    "# adding a new element to a set\n",
    "\n",
    "nums_new.add(8)\n",
    "print(nums_new)"
   ]
  },
  {
   "cell_type": "code",
   "execution_count": 482,
   "id": "3e2c819a-cdd2-4776-9796-93f03fad5347",
   "metadata": {},
   "outputs": [
    {
     "name": "stdout",
     "output_type": "stream",
     "text": [
      "{False, 1, 2, 3, 4, 5, 6, 7, 8}\n"
     ]
    }
   ],
   "source": [
    "morenums = {5, 6,7}\n",
    "nums_new.update(morenums)\n",
    "\n",
    "# within this update we can pass a list, tuple, or a dictionary as well\n",
    "print(nums_new)"
   ]
  },
  {
   "cell_type": "code",
   "execution_count": 486,
   "id": "b6949b20-5d91-46e6-a1de-f5ab06e83f2f",
   "metadata": {},
   "outputs": [
    {
     "name": "stdout",
     "output_type": "stream",
     "text": [
      "{1, 2, 3, 5, 6, 7}\n"
     ]
    }
   ],
   "source": [
    "# mergetwo sets to createa new set\n",
    "set1 = {1, 2, 3}\n",
    "set2 = {5, 6,7}\n",
    "new_set = set1.union(set2)\n",
    "print(new_set)"
   ]
  },
  {
   "cell_type": "code",
   "execution_count": 492,
   "id": "dfb04a86-a233-4666-a544-6f3241d9b5e0",
   "metadata": {},
   "outputs": [
    {
     "name": "stdout",
     "output_type": "stream",
     "text": [
      "{3, 4}\n"
     ]
    }
   ],
   "source": [
    "# keep only the duplicates from the two different sets\n",
    "set3 = {1, 2, 3, 4}\n",
    "set4 = {3, 4, 5, 6,7}\n",
    "set3.intersection_update(set4)\n",
    "print(set3)"
   ]
  },
  {
   "cell_type": "code",
   "execution_count": 498,
   "id": "674f3adb-b9ea-4870-a33b-5ca0781af6f9",
   "metadata": {},
   "outputs": [
    {
     "name": "stdout",
     "output_type": "stream",
     "text": [
      "{1, 2, 5, 6, 7}\n"
     ]
    }
   ],
   "source": [
    "# Print all excluding duplicates\n",
    "set3 = {1, 2, 3, 4}\n",
    "set4 = {3, 4, 5, 6,7}\n",
    "set3.symmetric_difference_update(set4)\n",
    "print(set3)"
   ]
  },
  {
   "cell_type": "code",
   "execution_count": null,
   "id": "f19c4d28-7754-440d-b979-11d98d512564",
   "metadata": {},
   "outputs": [],
   "source": []
  }
 ],
 "metadata": {
  "kernelspec": {
   "display_name": "Python [conda env:base] *",
   "language": "python",
   "name": "conda-base-py"
  },
  "language_info": {
   "codemirror_mode": {
    "name": "ipython",
    "version": 3
   },
   "file_extension": ".py",
   "mimetype": "text/x-python",
   "name": "python",
   "nbconvert_exporter": "python",
   "pygments_lexer": "ipython3",
   "version": "3.12.7"
  }
 },
 "nbformat": 4,
 "nbformat_minor": 5
}
